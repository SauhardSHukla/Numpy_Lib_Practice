{
 "cells": [
  {
   "cell_type": "markdown",
   "metadata": {},
   "source": [
    "To get the identity of the the list of data for the specific conditions"
   ]
  },
  {
   "cell_type": "code",
   "execution_count": 40,
   "metadata": {},
   "outputs": [],
   "source": [
    "import numpy as np"
   ]
  },
  {
   "cell_type": "code",
   "execution_count": 41,
   "metadata": {},
   "outputs": [],
   "source": [
    "a=np.array([1,2,10,40,14,35,11,12,14,2,3,4,25,34])"
   ]
  },
  {
   "cell_type": "code",
   "execution_count": 42,
   "metadata": {},
   "outputs": [
    {
     "name": "stdout",
     "output_type": "stream",
     "text": [
      "[40 14 35 11 12 14 25 34]\n"
     ]
    }
   ],
   "source": [
    "bool_data=a>10\n",
    "print(a[bool_data])"
   ]
  },
  {
   "cell_type": "code",
   "execution_count": 57,
   "metadata": {},
   "outputs": [
    {
     "name": "stdout",
     "output_type": "stream",
     "text": [
      "[14 11 12 14]\n"
     ]
    }
   ],
   "source": [
    "bool_data = a[(a>10)&(a<20)]\n",
    "print(bool_data)"
   ]
  },
  {
   "cell_type": "code",
   "execution_count": 58,
   "metadata": {},
   "outputs": [
    {
     "name": "stdout",
     "output_type": "stream",
     "text": [
      "100,100,100,100,"
     ]
    }
   ],
   "source": [
    "# We can change all the values that are till the :4 ele in the numpy array it can only cna be used in the Numpy arrays\n",
    "bool_data[:4]=100\n",
    "for i in bool_data:\n",
    "  print(i,end=',')"
   ]
  },
  {
   "cell_type": "code",
   "execution_count": 78,
   "metadata": {},
   "outputs": [
    {
     "name": "stdout",
     "output_type": "stream",
     "text": [
      "[2]\n"
     ]
    }
   ],
   "source": [
    "# We can use the condition to perform the same task\n",
    "\n",
    "# Let do it with the help of String numpy array\n",
    "list_str = np.array(['sauhard','Yash','Priyanshu','Suja'])\n",
    "if list_str[list_str=='Priyanshu']:\n",
    "  list_str[3:]='YASH'\n",
    "list_str\n",
    "list_str_where=np.where(list_str=='Priyanshu')[0]\n",
    "print(list_str_where)"
   ]
  },
  {
   "cell_type": "code",
   "execution_count": 79,
   "metadata": {},
   "outputs": [
    {
     "name": "stdout",
     "output_type": "stream",
     "text": [
      "0 1 4 "
     ]
    }
   ],
   "source": [
    "\n",
    "import numpy as n \n",
    "ar1=n.array([1,2,0,0,4,0])\n",
    "arr=  n.where(ar1!=0)[0]\n",
    "# print(arr)\n",
    "for ele in arr:\n",
    "    print(ele,end=\" \")"
   ]
  },
  {
   "cell_type": "code",
   "execution_count": 80,
   "metadata": {},
   "outputs": [
    {
     "name": "stdout",
     "output_type": "stream",
     "text": [
      "11\n",
      "2\n",
      "13\n",
      "4\n",
      "15\n",
      "6\n",
      "0\n",
      "8\n",
      "19\n"
     ]
    }
   ],
   "source": [
    "import numpy as n  \n",
    "arr= n.array([11, 2, 13, 4, 15, 6, 27, 8, 19])\n",
    "max_count=0\n",
    "for j in n.arange(len(arr)):\n",
    "    if arr[j]>max_count:\n",
    "        max_count=arr[j]\n",
    "arr[arr==max_count]=0\n",
    "# print(arr)\n",
    "for j in arr:\n",
    "    print(j)"
   ]
  },
  {
   "cell_type": "code",
   "execution_count": 81,
   "metadata": {},
   "outputs": [
    {
     "name": "stdout",
     "output_type": "stream",
     "text": [
      "15 156\n",
      "19 180\n",
      "20 162\n",
      "21 157\n",
      "22 158\n",
      "23 179\n",
      "16 182\n",
      "18 183\n",
      "20 159\n",
      "15 160\n",
      "17 172\n"
     ]
    }
   ],
   "source": [
    "import numpy as np\n",
    "\n",
    "# Step 1: Define the age and height arrays\n",
    "age = np.array([15, 17, 19, 20, 14, 21, 16, 19, 13, 20, 22, 23, 21, 16, 18, 19, 20, 15, 17, 18])\n",
    "height = np.array([156, 144, 180, 162, 152, 157, 154, 155, 151, 150, 158, 179, 126, 182, 183, 154, 159, 160, 172, 149])\n",
    "\n",
    "# Step 2: Find the indices of heights greater than 155 cm\n",
    "indices = height > 155\n",
    "\n",
    "# Step 3: Print the age and height for students whose height is above 155 cm\n",
    "for i in np.arange(len(age)):\n",
    "    if indices[i]:  # Check if the corresponding height is above 155\n",
    "        print(age[i], height[i])  # Print age and height\n"
   ]
  },
  {
   "cell_type": "code",
   "execution_count": 129,
   "metadata": {},
   "outputs": [
    {
     "name": "stdout",
     "output_type": "stream",
     "text": [
      "[[11 10  9  1  7]\n",
      " [16 15 14  2 12]\n",
      " [21 20 19 23 17]\n",
      " [ 6  5  4 78  2]]\n"
     ]
    }
   ],
   "source": [
    "# Step 1: Create the 2D array\n",
    "arr = np.array([[21,20,19,23,17],\n",
    "                [16,15,14,2,12],\n",
    "                [11,10,9,1,7],\n",
    "                [6,5,4,78,2]])\n",
    "\n",
    "# Step 2: Sort the array based on the second column (index 1)\n",
    "# sorted_arr = arr[arr[:,3].argsort()[::-1]] for descending order\n",
    "sorted_arr = arr[arr[:,3].argsort()]\n",
    "\n",
    "# Step 3: Print the sorted 2D array\n",
    "print(sorted_arr)"
   ]
  }
 ],
 "metadata": {
  "kernelspec": {
   "display_name": "Python 3",
   "language": "python",
   "name": "python3"
  },
  "language_info": {
   "codemirror_mode": {
    "name": "ipython",
    "version": 3
   },
   "file_extension": ".py",
   "mimetype": "text/x-python",
   "name": "python",
   "nbconvert_exporter": "python",
   "pygments_lexer": "ipython3",
   "version": "3.12.3"
  }
 },
 "nbformat": 4,
 "nbformat_minor": 2
}
