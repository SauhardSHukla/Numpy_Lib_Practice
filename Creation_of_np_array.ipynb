{
 "cells": [
  {
   "cell_type": "markdown",
   "metadata": {},
   "source": [
    "Various way to create the np.arrray from the given functions"
   ]
  },
  {
   "cell_type": "code",
   "execution_count": 59,
   "metadata": {},
   "outputs": [],
   "source": [
    "import numpy as np"
   ]
  },
  {
   "cell_type": "code",
   "execution_count": 60,
   "metadata": {},
   "outputs": [
    {
     "name": "stdout",
     "output_type": "stream",
     "text": [
      "[ 1  3  5  7  9 11 13 15 17 19]\n"
     ]
    }
   ],
   "source": [
    "a = np.arange(start=1,stop=20,step=2)\n",
    "print(a)"
   ]
  },
  {
   "cell_type": "code",
   "execution_count": 61,
   "metadata": {},
   "outputs": [
    {
     "data": {
      "text/plain": [
       "array([[0.78184976, 0.87322135, 0.97198827],\n",
       "       [0.23009207, 0.61525012, 0.27605359],\n",
       "       [0.2893382 , 0.87072591, 0.55954798],\n",
       "       [0.38475807, 0.84255144, 0.45007642],\n",
       "       [0.75995522, 0.54432049, 0.49790356],\n",
       "       [0.04680557, 0.36894356, 0.3690697 ],\n",
       "       [0.96454694, 0.52267811, 0.98294286],\n",
       "       [0.7470927 , 0.76279229, 0.12126979],\n",
       "       [0.85382014, 0.6741753 , 0.3866598 ],\n",
       "       [0.81188639, 0.88534808, 0.29213561]])"
      ]
     },
     "execution_count": 61,
     "metadata": {},
     "output_type": "execute_result"
    }
   ],
   "source": [
    "#To creata a list of random number \n",
    "p=np.random.rand(10,3)\n",
    "p"
   ]
  },
  {
   "cell_type": "code",
   "execution_count": 62,
   "metadata": {},
   "outputs": [
    {
     "data": {
      "text/plain": [
       "array([[ 0.,  0.,  0., 10.],\n",
       "       [ 0.,  0.,  0.,  0.],\n",
       "       [ 0.,  0.,  0.,  0.]])"
      ]
     },
     "execution_count": 62,
     "metadata": {},
     "output_type": "execute_result"
    }
   ],
   "source": [
    "# Useing the eye() function from the numpy it can create  2D array that help us to form various form of the 2D array\n",
    "# With the help of various paarmeter like \"k\" to tell the digonal position and 'like' to get the subclass for the same class array\n",
    "\n",
    "j = np.eye(3,4,k=3)*10\n",
    "j"
   ]
  },
  {
   "cell_type": "code",
   "execution_count": 63,
   "metadata": {},
   "outputs": [
    {
     "data": {
      "text/plain": [
       "array([[3., 2., 2.],\n",
       "       [2., 3., 2.],\n",
       "       [2., 2., 3.]])"
      ]
     },
     "execution_count": 63,
     "metadata": {},
     "output_type": "execute_result"
    }
   ],
   "source": [
    "#Useing the function of the np.identity() but cannnot create a 2d array format from this\n",
    "\n",
    "k=np.identity(3)+2\n",
    "k"
   ]
  },
  {
   "cell_type": "code",
   "execution_count": 64,
   "metadata": {},
   "outputs": [
    {
     "data": {
      "text/plain": [
       "array([[8, 8, 4, 9],\n",
       "       [2, 9, 6, 7],\n",
       "       [4, 9, 7, 3],\n",
       "       [4, 0, 1, 8]], dtype=int32)"
      ]
     },
     "execution_count": 64,
     "metadata": {},
     "output_type": "execute_result"
    }
   ],
   "source": [
    "# To create a 2D array with the help of the random randit functions()\n",
    "\n",
    "rand = np.random.randint(10,size=(4,4))\n",
    "rand"
   ]
  }
 ],
 "metadata": {
  "kernelspec": {
   "display_name": "Python 3",
   "language": "python",
   "name": "python3"
  },
  "language_info": {
   "codemirror_mode": {
    "name": "ipython",
    "version": 3
   },
   "file_extension": ".py",
   "mimetype": "text/x-python",
   "name": "python",
   "nbconvert_exporter": "python",
   "pygments_lexer": "ipython3",
   "version": "3.12.3"
  }
 },
 "nbformat": 4,
 "nbformat_minor": 2
}
